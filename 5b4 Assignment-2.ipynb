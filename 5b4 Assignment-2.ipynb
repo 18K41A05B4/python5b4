{
 "cells": [
  {
   "cell_type": "code",
   "execution_count": 2,
   "metadata": {
    "scrolled": true
   },
   "outputs": [
    {
     "name": "stdout",
     "output_type": "stream",
     "text": [
      "enter first side:12\n",
      "enter second side:13 \n",
      "enter third side:15\n",
      "Area of triangle: 74.83314773547883\n"
     ]
    }
   ],
   "source": [
    "#1.Area of triangle:given the lengths of three sides of a triangle.Calculate the area of triangle.\n",
    "a=int(input(\"enter first side:\"))\n",
    "b=int(input(\"enter second side:\"))\n",
    "c=int(input(\"enter third side:\"))\n",
    "s=(a+b+c)/2\n",
    "if a+b>c:\n",
    "    area=(s*(s-a)*(s-b)*(s-c))**0.5\n",
    "print(\"Area of triangle:\",area)\n",
    "    \n"
   ]
  },
  {
   "cell_type": "code",
   "execution_count": 1,
   "metadata": {},
   "outputs": [
    {
     "name": "stdout",
     "output_type": "stream",
     "text": [
      "enter string:malayalam\n",
      "palindrome\n"
     ]
    }
   ],
   "source": [
    "#2.Take a string from end user and check if the value is palindrome or not.\n",
    "def Palindrome(st):\n",
    "    return st==st[::-1]\n",
    "    \n",
    "st=input(\"enter string:\")\n",
    "a=Palindrome(st)\n",
    "if a:\n",
    "    print(\"palindrome\")\n",
    "else:\n",
    "    print(\"not a palindrome\")\n",
    "\n"
   ]
  },
  {
   "cell_type": "code",
   "execution_count": 19,
   "metadata": {},
   "outputs": [
    {
     "name": "stdout",
     "output_type": "stream",
     "text": [
      "enter year:2016\n",
      "It is a leap year\n"
     ]
    }
   ],
   "source": [
    "#3.Write a program that reads a year from the user and displays a message Indicating whether or not it is a leap year.\n",
    "year=int(input(\"enter year:\"))\n",
    "if year%4==0:\n",
    "    print(\"It is a leap year\")\n",
    "else:\n",
    "    print(\"It is not a leap year\")"
   ]
  },
  {
   "cell_type": "code",
   "execution_count": 23,
   "metadata": {},
   "outputs": [
    {
     "name": "stdout",
     "output_type": "stream",
     "text": [
      "enter string:\"This program converts spaces into hyphen\"\n",
      "\"This-program-converts-spaces-into-hyphen\"\n"
     ]
    }
   ],
   "source": [
    "#4.Space To Hyphen problem Take a string as input, and replaces spaces “ “  with hyphens “-”, and returns a string.\n",
    "#Input: “ This program converts spaces into hyphen”      \n",
    "#Output:     “ This-program-converts-spaces-into-hyphen”\n",
    "st=input(\"enter string:\")\n",
    "s=[word for word in st.split()]\n",
    "print(\"-\".join(s))"
   ]
  },
  {
   "cell_type": "code",
   "execution_count": 18,
   "metadata": {},
   "outputs": [
    {
     "name": "stdout",
     "output_type": "stream",
     "text": [
      "enter string:orange,white,red,cyan,green,magenta,cyan,pink,white\n",
      "cyan,green,magenta,orange,pink,red,white\n"
     ]
    }
   ],
   "source": [
    "#5. Unique Sort problem :\n",
    "#Take  a  string  as  input  that  accepts  a  comma  separated  sequence  of  words as input and prints the unique words in sorted form (alphanumerically).\n",
    "#*Input*: orange, white, red, cyan, green, magenta, cyan, pink, white\n",
    "#*Output*: cyan, green, magenta, orange, pink, red, white\n",
    "string=input(\"enter string:\")\n",
    "words=[word for word in string.split(\",\")]\n",
    "print(\",\".join(sorted(list(set(words)))))\n"
   ]
  },
  {
   "cell_type": "code",
   "execution_count": 1,
   "metadata": {},
   "outputs": [
    {
     "name": "stdout",
     "output_type": "stream",
     "text": [
      "enter amount:300000\n",
      "Amount to be paid: 15000.0\n"
     ]
    }
   ],
   "source": [
    "#6. Tax CalculatorAsk  the  user  for  their  monthly  salary.  Calculate  whether  they  have  to  pay tax and if so, how much is that amount .Print the result\n",
    "a=int(input(\"enter amount:\"))\n",
    "if a>=50000 and a<=250000:\n",
    "    c=a*0\n",
    "elif a>=250001 and a<=500000:\n",
    "    c=a*(5/100)\n",
    "elif a>=500001 and a<=750000:\n",
    "    c=a*(10/100)\n",
    "elif a>=750001 and a<=1000000:\n",
    "    c=a*(15/100)\n",
    "elif a>=1000001 and a<=1250000:\n",
    "    c=a*(20/100)\n",
    "elif a>=1250001 and a<=1500000:\n",
    "    c=a*(25/100)\n",
    "else:\n",
    "    c=a*(30/100)\n",
    "print(\"Amount to be paid:\",c)"
   ]
  },
  {
   "cell_type": "code",
   "execution_count": 60,
   "metadata": {},
   "outputs": [
    {
     "name": "stdout",
     "output_type": "stream",
     "text": [
      "121314\n"
     ]
    }
   ],
   "source": [
    "#7.Take a list of integers as an argument, and converts it into a single integer (return the integer).\n",
    "#*Input*: [11, 33, 50]\n",
    "#*Output*: 113350\n",
    "s=[12,13,14]\n",
    "l=[str(integer) for integer in s]\n",
    "a=\"\".join(l)\n",
    "b=int(a)\n",
    "print(b)"
   ]
  },
  {
   "cell_type": "code",
   "execution_count": 7,
   "metadata": {},
   "outputs": [
    {
     "name": "stdout",
     "output_type": "stream",
     "text": [
      "enter first no:12 \n",
      "enter second no:4 \n",
      "enter third no:15\n",
      "4 11 15\n"
     ]
    }
   ],
   "source": [
    "#9.Sort 3 Integers Given  three  integers  (given  through  user  input),  sort  the  numbers  using |min| and  |max| functions.\n",
    "a=int(input(\"enter first no:\"))\n",
    "b=int(input(\"enter second no:\"))\n",
    "c=int(input(\"enter third no:\"))\n",
    "m=min(a,b,c)\n",
    "m1=(a+b+c)-m-m1\n",
    "m2=max(a,b,c)\n",
    "print(m,m1,m2)"
   ]
  },
  {
   "cell_type": "code",
   "execution_count": 26,
   "metadata": {},
   "outputs": [
    {
     "name": "stdout",
     "output_type": "stream",
     "text": [
      "enter days:3\n",
      "enter hours:24\n",
      "enter minutes:50 \n",
      "enter seconds:6\n",
      "no of seconds: 348606\n"
     ]
    }
   ],
   "source": [
    "#8.Create  a  program  that  reads  duration  from  the  user  as  a  number  of  days, hours,  minutes,  and  seconds.  Compute  and  display  the  total  number  of seconds represented by this duration. \n",
    "days=int(input(\"enter days:\"))*24*3600\n",
    "hours=int(input(\"enter hours:\"))*3600\n",
    "min=int(input(\"enter minutes:\"))*60\n",
    "sec=int(input(\"enter seconds:\"))\n",
    "time=days+hours+min+sec\n",
    "print(\"no of seconds:\",time)\n",
    "\n"
   ]
  },
  {
   "cell_type": "code",
   "execution_count": 23,
   "metadata": {},
   "outputs": [
    {
     "name": "stdout",
     "output_type": "stream",
     "text": [
      "product: 121111200\n"
     ]
    }
   ],
   "source": [
    "#11.Compute product of a list of numbers [45 ,3,2,89,72,1,10,7]\n",
    "#Output: 121111200\n",
    "l=[45,3,2,89,72,1,10,7]\n",
    "p=1\n",
    "for i in range(0,len(l)):\n",
    "    p=p*l[i]\n",
    "print(\"product:\",p)"
   ]
  },
  {
   "cell_type": "code",
   "execution_count": 46,
   "metadata": {},
   "outputs": [
    {
     "name": "stdout",
     "output_type": "stream",
     "text": [
      "[11, 14, 42, 123, 90]\n"
     ]
    }
   ],
   "source": [
    "#12.Compute given Num_list =  [5, 6,8 ,34,89,1] to get desired output\n",
    "#Output: Out_list=[11,14,42,123,90]\n",
    "l1=[5,6,8,34,89,1]\n",
    "\n",
    "res=[l1[i]+l1[i+1] for i in range(len(l1)-1)]\n",
    "print(res)\n",
    "    \n",
    "  \n",
    "\n",
    "    \n",
    "\n",
    "\n"
   ]
  },
  {
   "cell_type": "code",
   "execution_count": 8,
   "metadata": {},
   "outputs": [
    {
     "name": "stdout",
     "output_type": "stream",
     "text": [
      "enter number:1234\n",
      "[1, 2, 3, 4]\n"
     ]
    }
   ],
   "source": [
    "#14. Write a Python code that takes a number and returns a list of its digits. So for 586392 it should return [5,8,6,3,9,2]\n",
    "n=int(input(\"enter number:\"))\n",
    "n1=str(n)\n",
    "l=list((n1))\n",
    "for i in range(0,len(l)):\n",
    "    l[i]=int(l[i])\n",
    "print(l)"
   ]
  },
  {
   "cell_type": "code",
   "execution_count": 8,
   "metadata": {},
   "outputs": [
    {
     "name": "stdout",
     "output_type": "stream",
     "text": [
      "enter string:1001010010\n",
      "enter substring:1010\n",
      "1\n"
     ]
    }
   ],
   "source": [
    "#16. Substring Check (Bug Funny)Given two binary strings, A (of length 10) and B (of length 5), output 1 if B is a substring of A and 0 otherwise.\n",
    "#First two lines of input:1010110010          10110\n",
    "                           #1110111011           10011\n",
    "    #First two lines of output:1\n",
    "                               #0\n",
    "def check(s,sub):\n",
    "    if(s.find(sub)==-1):\n",
    "         print(\"0\")\n",
    "    else:\n",
    "         print(\"1\")\n",
    "s=input(\"enter string:\")\n",
    "sub=input(\"enter substring:\")\n",
    "check(s,sub)"
   ]
  },
  {
   "cell_type": "code",
   "execution_count": 10,
   "metadata": {},
   "outputs": [
    {
     "name": "stdout",
     "output_type": "stream",
     "text": [
      "enter year2016\n",
      "enter month:5\n",
      "enter date:12\n",
      "the successor date is [yyyy-mm-dd] 2016-5-13.\n"
     ]
    }
   ],
   "source": [
    "#10.Write  a  program  that  reads  a  date  from  the  user  and  computes  its immediate successor. \n",
    "#The date is the format YYYY-MM-DD. So, 2020-04-15 will have the successor 2020-04-16.\n",
    "year=int(input(\"enter year\"))\n",
    "if year%4==0:\n",
    "    leapyear=True\n",
    "elif year%100==0:\n",
    "    leapyear=False\n",
    "elif year%400==0:\n",
    "    leapyear=True\n",
    "else:\n",
    "    leapyear=False\n",
    "month=int(input(\"enter month:\"))\n",
    "if month in (1,3,5,7,8,10,12):\n",
    "    monthl=31\n",
    "elif month==2:\n",
    "    if leapyear:\n",
    "        monthl=29\n",
    "    else:\n",
    "        monthl=28\n",
    "else:\n",
    "    monthl=30\n",
    "date=int(input(\"enter date:\"))\n",
    "if date<monthl:\n",
    "    date+=1\n",
    "else:\n",
    "    date=1\n",
    "    if month==12:\n",
    "        month=1\n",
    "        year+=1\n",
    "    else:\n",
    "        month+=1\n",
    "print(\"the successor date is [yyyy-mm-dd] %d-%d-%d.\"%(year,month,date))\n",
    "  "
   ]
  },
  {
   "cell_type": "code",
   "execution_count": 18,
   "metadata": {},
   "outputs": [
    {
     "name": "stdout",
     "output_type": "stream",
     "text": [
      "BBABB\n"
     ]
    }
   ],
   "source": [
    "#15.Write a program that finds the longest palindromic substring of a given string\n",
    "class sol(object):\n",
    "    def longestPalindrome(self,s):\n",
    "        d=[[False for i in range(len(s))] for i in range(len(s))]\n",
    "        for i in range(len(s)):\n",
    "            d[i][i]=True\n",
    "        maxl=1\n",
    "        start=0\n",
    "        for l in range(2,len(s)+1):\n",
    "            for i in range(len(s)-l+1):\n",
    "                end=i+l\n",
    "                if l==2:\n",
    "                    if s[i]==s[end-1]:\n",
    "                        d[i][end-1]=True\n",
    "                        maxl=l\n",
    "                        start=i\n",
    "                else:\n",
    "                    if s[i]==s[end-1] and d[i+1][end-2]:\n",
    "                        d[i][end-1]=True\n",
    "                        maxl=l\n",
    "                        start=i\n",
    "        return s[start:start+maxl]\n",
    "ob1=sol()\n",
    "print(ob1.longestPalindrome(\"ABBABBC\"))\n"
   ]
  },
  {
   "cell_type": "code",
   "execution_count": 10,
   "metadata": {},
   "outputs": [
    {
     "name": "stdout",
     "output_type": "stream",
     "text": [
      "enter litres of water for first vessel:4\n",
      "enter litres of water for second vessel:3\n",
      "enter litres of water for third vessel5\n",
      "-1\n"
     ]
    }
   ],
   "source": [
    "#17.Given two vessels, one of which can accommodate a litres of water and the other - b litres   of   water,   determine   the   number   of   steps   required   to   obtain exactly c litres of water in one of the vessels.At the beginning both vessels are empty. The following operations are counted as 'steps':emptying a vessel,filling a vessel,pouring water from one vessel to the other, without spilling, until one of the vessels is either full or empty.\n",
    "a=int(input(\"enter litres of water for first vessel:\"))\n",
    "b=int(input(\"enter litres of water for second vessel:\"))\n",
    "c=int(input(\"enter litres of water for third vessel\"))\n",
    "if c<=(a+b) and c<=(a-b):\n",
    "    print(c)\n",
    "else:\n",
    "    print(\"-1\")\n",
    "    "
   ]
  },
  {
   "cell_type": "code",
   "execution_count": 78,
   "metadata": {},
   "outputs": [
    {
     "name": "stdout",
     "output_type": "stream",
     "text": [
      "5 30 240 720 6480 6480 "
     ]
    }
   ],
   "source": [
    "#13.Compute given Num_tuple =  (5, 6,8 ,3,9,1) to get desired output\n",
    "#Output: Out_list = [5, 30, 240, 720, 6480, 6480]\n",
    "t=(5,6,8,3,9,1)\n",
    "res=list(t)\n",
    "p=1\n",
    "for i in range(len(t)):\n",
    "    p=p*res[i]\n",
    "    print(p,end=\" \")\n",
    "\n",
    "    "
   ]
  },
  {
   "cell_type": "code",
   "execution_count": null,
   "metadata": {},
   "outputs": [],
   "source": []
  },
  {
   "cell_type": "code",
   "execution_count": null,
   "metadata": {},
   "outputs": [],
   "source": []
  }
 ],
 "metadata": {
  "kernelspec": {
   "display_name": "Python 3",
   "language": "python",
   "name": "python3"
  },
  "language_info": {
   "codemirror_mode": {
    "name": "ipython",
    "version": 3
   },
   "file_extension": ".py",
   "mimetype": "text/x-python",
   "name": "python",
   "nbconvert_exporter": "python",
   "pygments_lexer": "ipython3",
   "version": "3.7.6"
  }
 },
 "nbformat": 4,
 "nbformat_minor": 4
}
